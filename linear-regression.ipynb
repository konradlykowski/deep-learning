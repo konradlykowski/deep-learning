{
 "cells": [
  {
   "cell_type": "code",
   "execution_count": 1,
   "metadata": {},
   "outputs": [],
   "source": [
    "import numpy as np\n",
    "import matplotlib.pyplot as plt\n",
    "\n",
    "\n",
    "\n",
    "  \n",
    "\n",
    "\n"
   ]
  },
  {
   "cell_type": "markdown",
   "metadata": {},
   "source": [
    "###### Set initial data\n",
    "\n",
    "My training data :  $y = 0.5x + 0.1 + \\sigma(0,0.1)$"
   ]
  },
  {
   "cell_type": "code",
   "execution_count": 9,
   "metadata": {},
   "outputs": [
    {
     "data": {
      "image/png": "[encoded data removed]",
      "text/plain": [
       "<Figure size 432x288 with 1 Axes>"
      ]
     },
     "metadata": {},
     "output_type": "display_data"
    }
   ],
   "source": [
    "W_ref  = 0.5\n",
    "b_ref = 0.1\n",
    "nData = 51\n",
    "noise_mu = 0\n",
    "noise_std = 0.1\n",
    "\n",
    "np.dot\n",
    "\n",
    "X_train = np.linspace(-2,2,nData)\n",
    "Y_test = W_ref * X_train + b_ref\n",
    "Y_train = Y_test + np.random.normal(noise_mu, noise_std, nData)\n",
    "\n",
    "plt.figure(1)\n",
    "plt.plot(X_train, Y_test, 'ro', label='True data')\n",
    "plt.plot(X_train, Y_train, 'bo', label='Training data')\n",
    "plt.axis('equal')\n",
    "plt.legend(loc='lower right')\n",
    "plt.show()"
   ]
  },
  {
   "cell_type": "code",
   "execution_count": null,
   "metadata": {},
   "outputs": [],
   "source": []
  }
 ],
 "metadata": {
  "kernelspec": {
   "display_name": "Python 3",
   "language": "python",
   "name": "python3"
  },
  "language_info": {
   "codemirror_mode": {
    "name": "ipython",
    "version": 3
   },
   "file_extension": ".py",
   "mimetype": "text/x-python",
   "name": "python",
   "nbconvert_exporter": "python",
   "pygments_lexer": "ipython3",
   "version": "3.6.5"
  }
 },
 "nbformat": 4,
 "nbformat_minor": 1
}
